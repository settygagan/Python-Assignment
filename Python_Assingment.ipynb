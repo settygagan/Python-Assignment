{
  "nbformat": 4,
  "nbformat_minor": 0,
  "metadata": {
    "colab": {
      "provenance": []
    },
    "kernelspec": {
      "name": "python3",
      "display_name": "Python 3"
    },
    "language_info": {
      "name": "python"
    }
  },
  "cells": [
    {
      "cell_type": "code",
      "execution_count": null,
      "metadata": {
        "colab": {
          "base_uri": "https://localhost:8080/"
        },
        "id": "R2MaUF7FTD09",
        "outputId": "9fdd7385-8419-4eb7-e233-7909e61d4700"
      },
      "outputs": [
        {
          "output_type": "stream",
          "name": "stdout",
          "text": [
            "Enter a number:8\n",
            "The number is even\n"
          ]
        }
      ],
      "source": [
        "num=int(input(\"Enter a number:\"))\n",
        "if num%2==0:\n",
        "    print(\"The number is even\")\n",
        "else:\n",
        "    print(\"The number is odd\")"
      ]
    },
    {
      "cell_type": "code",
      "source": [
        "def find_max(a,b,c):\n",
        "  if a>b and a>c:\n",
        "    return a\n",
        "  elif b>a and b>c:\n",
        "    return b\n",
        "  else:\n",
        "    return c\n",
        "a,b,c=map(int,input(\"Enter three numbers:\").split())\n",
        "print(\"The maximum is:\",find_max(a,b,c))"
      ],
      "metadata": {
        "colab": {
          "base_uri": "https://localhost:8080/",
          "height": 207
        },
        "id": "H7BTPxntTRx-",
        "outputId": "00d034d0-a230-4376-a5ac-f389cac73a44"
      },
      "execution_count": null,
      "outputs": [
        {
          "name": "stdout",
          "output_type": "stream",
          "text": [
            "Enter three numbers:784\n"
          ]
        },
        {
          "output_type": "error",
          "ename": "ValueError",
          "evalue": "not enough values to unpack (expected 3, got 1)",
          "traceback": [
            "\u001b[0;31m---------------------------------------------------------------------------\u001b[0m",
            "\u001b[0;31mValueError\u001b[0m                                Traceback (most recent call last)",
            "\u001b[0;32m<ipython-input-2-2124d8a421cf>\u001b[0m in \u001b[0;36m<cell line: 8>\u001b[0;34m()\u001b[0m\n\u001b[1;32m      6\u001b[0m   \u001b[0;32melse\u001b[0m\u001b[0;34m:\u001b[0m\u001b[0;34m\u001b[0m\u001b[0;34m\u001b[0m\u001b[0m\n\u001b[1;32m      7\u001b[0m     \u001b[0;32mreturn\u001b[0m \u001b[0mc\u001b[0m\u001b[0;34m\u001b[0m\u001b[0;34m\u001b[0m\u001b[0m\n\u001b[0;32m----> 8\u001b[0;31m \u001b[0ma\u001b[0m\u001b[0;34m,\u001b[0m\u001b[0mb\u001b[0m\u001b[0;34m,\u001b[0m\u001b[0mc\u001b[0m\u001b[0;34m=\u001b[0m\u001b[0mmap\u001b[0m\u001b[0;34m(\u001b[0m\u001b[0mint\u001b[0m\u001b[0;34m,\u001b[0m\u001b[0minput\u001b[0m\u001b[0;34m(\u001b[0m\u001b[0;34m\"Enter three numbers:\"\u001b[0m\u001b[0;34m)\u001b[0m\u001b[0;34m.\u001b[0m\u001b[0msplit\u001b[0m\u001b[0;34m(\u001b[0m\u001b[0;34m)\u001b[0m\u001b[0;34m)\u001b[0m\u001b[0;34m\u001b[0m\u001b[0;34m\u001b[0m\u001b[0m\n\u001b[0m\u001b[1;32m      9\u001b[0m \u001b[0mprint\u001b[0m\u001b[0;34m(\u001b[0m\u001b[0;34m\"The maximum is:\"\u001b[0m\u001b[0;34m,\u001b[0m\u001b[0mfind_max\u001b[0m\u001b[0;34m(\u001b[0m\u001b[0ma\u001b[0m\u001b[0;34m,\u001b[0m\u001b[0mb\u001b[0m\u001b[0;34m,\u001b[0m\u001b[0mc\u001b[0m\u001b[0;34m)\u001b[0m\u001b[0;34m)\u001b[0m\u001b[0;34m\u001b[0m\u001b[0;34m\u001b[0m\u001b[0m\n",
            "\u001b[0;31mValueError\u001b[0m: not enough values to unpack (expected 3, got 1)"
          ]
        }
      ]
    },
    {
      "cell_type": "code",
      "source": [
        "names_ages={\"Alice\":25,\"Bob\":30,\"Charlie\":35,\"David\":30}\n",
        "age_to_names = {age:[name for name, a in names_ages.items() if a==age] for age in set(names_ages.values())}\n",
        "print(age_to_names)"
      ],
      "metadata": {
        "colab": {
          "base_uri": "https://localhost:8080/",
          "height": 105
        },
        "id": "VTWmYleKUIpJ",
        "outputId": "525d2f63-c630-49d6-d7c1-55ce6c8e089d"
      },
      "execution_count": null,
      "outputs": [
        {
          "output_type": "error",
          "ename": "SyntaxError",
          "evalue": "invalid syntax (<ipython-input-6-2320e3b76bd3>, line 2)",
          "traceback": [
            "\u001b[0;36m  File \u001b[0;32m\"<ipython-input-6-2320e3b76bd3>\"\u001b[0;36m, line \u001b[0;32m2\u001b[0m\n\u001b[0;31m    age_to_names={age:[name for name, a in names_ages, items() if a==ages]} for age in set(names_ages.values())\u001b[0m\n\u001b[0m                                                     ^\u001b[0m\n\u001b[0;31mSyntaxError\u001b[0m\u001b[0;31m:\u001b[0m invalid syntax\n"
          ]
        }
      ]
    },
    {
      "cell_type": "markdown",
      "source": [
        "(2)"
      ],
      "metadata": {
        "id": "7JQzCHE8VJ8n"
      }
    },
    {
      "cell_type": "code",
      "source": [
        "def find_max(a, b, c):\n",
        "  if a > b and a > c:\n",
        "    return a\n",
        "  elif b > a and b > c:\n",
        "    return b\n",
        "  else:\n",
        "    return c\n",
        "\n",
        "numbers_str = input(\"Enter three numbers separated by spaces: \")\n",
        "numbers_list = numbers_str.split()\n",
        "\n",
        "\n",
        "if len(numbers_list) != 3:\n",
        "  print(\"Error: Please enter exactly three numbers separated by spaces.\")\n",
        "else:\n",
        "\n",
        "  try:\n",
        "    a, b, c = map(int, numbers_list)\n",
        "    print(\"The maximum is:\", find_max(a, b, c))\n",
        "  except ValueError:\n",
        "    print(\"Error: Please enter valid numbers.\")"
      ],
      "metadata": {
        "colab": {
          "base_uri": "https://localhost:8080/"
        },
        "id": "iwC0KD18Uteb",
        "outputId": "e3f70d13-3014-4223-9d4f-4eba113227d8"
      },
      "execution_count": null,
      "outputs": [
        {
          "output_type": "stream",
          "name": "stdout",
          "text": [
            "Enter three numbers separated by spaces: 3 2 7\n",
            "The maximum is: 7\n"
          ]
        }
      ]
    },
    {
      "cell_type": "code",
      "source": [],
      "metadata": {
        "id": "oW4COqm9VC4V"
      },
      "execution_count": null,
      "outputs": []
    }
  ]
}